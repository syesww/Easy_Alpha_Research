{
 "cells": [
  {
   "cell_type": "code",
   "execution_count": 44,
   "id": "50e53a47",
   "metadata": {},
   "outputs": [],
   "source": [
    "import streamlit as st\n",
    "import numpy as np\n",
    "import pandas as pd"
   ]
  },
  {
   "cell_type": "code",
   "execution_count": 45,
   "id": "b0d96a8e",
   "metadata": {},
   "outputs": [
    {
     "data": {
      "text/plain": [
       "pandas.core.frame.DataFrame"
      ]
     },
     "execution_count": 45,
     "metadata": {},
     "output_type": "execute_result"
    }
   ],
   "source": [
    "data = pd.read_hdf('statistics.h5', key='data')\n",
    "type(data)"
   ]
  },
  {
   "cell_type": "code",
   "execution_count": 46,
   "id": "777c1dee",
   "metadata": {},
   "outputs": [],
   "source": [
    "mr = data['factor_mean_return'][0]\n",
    "mean = data['IC_mean'][0]\n",
    "std = data['IC_std'][0]\n",
    "per = data['IC_percent'][0]\n",
    "ir = data['IR'][0]"
   ]
  },
  {
   "cell_type": "code",
   "execution_count": 47,
   "id": "222f49ff",
   "metadata": {},
   "outputs": [
    {
     "data": {
      "text/plain": [
       "0.0004"
      ]
     },
     "execution_count": 47,
     "metadata": {},
     "output_type": "execute_result"
    }
   ],
   "source": [
    "mr"
   ]
  },
  {
   "cell_type": "code",
   "execution_count": 48,
   "id": "6453e38b",
   "metadata": {},
   "outputs": [
    {
     "data": {
      "text/plain": [
       "DeltaGenerator()"
      ]
     },
     "execution_count": 48,
     "metadata": {},
     "output_type": "execute_result"
    }
   ],
   "source": [
    "st.title(\"单因子分析可视化\")\n",
    "\n",
    "st.markdown(\"## 因子概览\")\n",
    "st.markdown(\"平均收益率: {:.2f}\".format(mr))\n",
    "st.markdown(\"IC均值: {:.2f}\".format(mean))\n",
    "st.markdown(\"IC标准差: {:.2f}\".format(std))\n",
    "st.markdown(\"IC百分比: {:.2f}\".format(per))\n",
    "st.markdown(\"IR: {:.2f}\".format(ir))\n",
    "\n",
    "st.markdown(\"## 因子IC分析\")\n",
    "\n",
    "st.markdown(\"## 因子收益率分析\")"
   ]
  },
  {
   "cell_type": "code",
   "execution_count": null,
   "id": "f5ea457a",
   "metadata": {},
   "outputs": [],
   "source": []
  },
  {
   "cell_type": "code",
   "execution_count": null,
   "id": "cff14dd3",
   "metadata": {},
   "outputs": [],
   "source": []
  }
 ],
 "metadata": {
  "kernelspec": {
   "display_name": "Python 3 (ipykernel)",
   "language": "python",
   "name": "python3"
  },
  "language_info": {
   "codemirror_mode": {
    "name": "ipython",
    "version": 3
   },
   "file_extension": ".py",
   "mimetype": "text/x-python",
   "name": "python",
   "nbconvert_exporter": "python",
   "pygments_lexer": "ipython3",
   "version": "3.11.5"
  }
 },
 "nbformat": 4,
 "nbformat_minor": 5
}
